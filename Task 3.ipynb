{
 "cells": [
  {
   "cell_type": "code",
   "execution_count": 62,
   "metadata": {},
   "outputs": [],
   "source": [
    "from mailchimp3 import MailChimp#importing the mailchimp "
   ]
  },
  {
   "cell_type": "code",
   "execution_count": 63,
   "metadata": {},
   "outputs": [],
   "source": [
    "client=MailChimp(mc_api='0c9003e3b726920b6da74d00f672df98-us6',mc_user='hpal76832')#log in the mailchimp "
   ]
  },
  {
   "cell_type": "code",
   "execution_count": 64,
   "metadata": {},
   "outputs": [
    {
     "data": {
      "text/plain": [
       "{'lists': [{'id': 'dbee994f95', 'name': 'Skidos Demo'}], 'total_items': 1}"
      ]
     },
     "execution_count": 64,
     "metadata": {},
     "output_type": "execute_result"
    }
   ],
   "source": [
    "client.lists.all(get_all=True, fields=\"lists.name,lists.id\")#Audience lists"
   ]
  },
  {
   "cell_type": "code",
   "execution_count": 65,
   "metadata": {},
   "outputs": [
    {
     "data": {
      "text/plain": [
       "{'id': 'cdb9a4b5b93d20acd34e3a32974b8208',\n",
       " 'email_address': 'aryank@gmail.com',\n",
       " 'unique_email_id': '31c835574a',\n",
       " 'full_name': 'John Doe',\n",
       " 'web_id': 551448281,\n",
       " 'email_type': 'html',\n",
       " 'status': 'subscribed',\n",
       " 'merge_fields': {'FNAME': 'John', 'LNAME': 'Doe', 'ADDRESS': '', 'PHONE': ''},\n",
       " 'stats': {'avg_open_rate': 0, 'avg_click_rate': 0},\n",
       " 'ip_signup': '',\n",
       " 'timestamp_signup': '',\n",
       " 'ip_opt': '132.154.69.235',\n",
       " 'timestamp_opt': '2021-06-13T18:31:56+00:00',\n",
       " 'member_rating': 2,\n",
       " 'last_changed': '2021-06-13T18:31:56+00:00',\n",
       " 'language': '',\n",
       " 'vip': False,\n",
       " 'email_client': '',\n",
       " 'location': {'latitude': 0,\n",
       "  'longitude': 0,\n",
       "  'gmtoff': 0,\n",
       "  'dstoff': 0,\n",
       "  'country_code': '',\n",
       "  'timezone': ''},\n",
       " 'source': 'API - Generic',\n",
       " 'tags_count': 1,\n",
       " 'tags': [{'id': 1916705, 'name': 'Skidos'}],\n",
       " 'list_id': 'dbee994f95',\n",
       " '_links': [{'rel': 'self',\n",
       "   'href': 'https://us6.api.mailchimp.com/3.0/lists/dbee994f95/members/cdb9a4b5b93d20acd34e3a32974b8208',\n",
       "   'method': 'GET',\n",
       "   'targetSchema': 'https://us6.api.mailchimp.com/schema/3.0/Definitions/Lists/Members/Response.json'},\n",
       "  {'rel': 'parent',\n",
       "   'href': 'https://us6.api.mailchimp.com/3.0/lists/dbee994f95/members',\n",
       "   'method': 'GET',\n",
       "   'targetSchema': 'https://us6.api.mailchimp.com/schema/3.0/Definitions/Lists/Members/CollectionResponse.json',\n",
       "   'schema': 'https://us6.api.mailchimp.com/schema/3.0/Paths/Lists/Members/Collection.json'},\n",
       "  {'rel': 'update',\n",
       "   'href': 'https://us6.api.mailchimp.com/3.0/lists/dbee994f95/members/cdb9a4b5b93d20acd34e3a32974b8208',\n",
       "   'method': 'PATCH',\n",
       "   'targetSchema': 'https://us6.api.mailchimp.com/schema/3.0/Definitions/Lists/Members/Response.json',\n",
       "   'schema': 'https://us6.api.mailchimp.com/schema/3.0/Definitions/Lists/Members/PATCH.json'},\n",
       "  {'rel': 'upsert',\n",
       "   'href': 'https://us6.api.mailchimp.com/3.0/lists/dbee994f95/members/cdb9a4b5b93d20acd34e3a32974b8208',\n",
       "   'method': 'PUT',\n",
       "   'targetSchema': 'https://us6.api.mailchimp.com/schema/3.0/Definitions/Lists/Members/Response.json',\n",
       "   'schema': 'https://us6.api.mailchimp.com/schema/3.0/Definitions/Lists/Members/PUT.json'},\n",
       "  {'rel': 'delete',\n",
       "   'href': 'https://us6.api.mailchimp.com/3.0/lists/dbee994f95/members/cdb9a4b5b93d20acd34e3a32974b8208',\n",
       "   'method': 'DELETE'},\n",
       "  {'rel': 'activity',\n",
       "   'href': 'https://us6.api.mailchimp.com/3.0/lists/dbee994f95/members/cdb9a4b5b93d20acd34e3a32974b8208/activity',\n",
       "   'method': 'GET',\n",
       "   'targetSchema': 'https://us6.api.mailchimp.com/schema/3.0/Definitions/Lists/Members/Activity/Response.json'},\n",
       "  {'rel': 'goals',\n",
       "   'href': 'https://us6.api.mailchimp.com/3.0/lists/dbee994f95/members/cdb9a4b5b93d20acd34e3a32974b8208/goals',\n",
       "   'method': 'GET',\n",
       "   'targetSchema': 'https://us6.api.mailchimp.com/schema/3.0/Definitions/Lists/Members/Goals/Response.json'},\n",
       "  {'rel': 'notes',\n",
       "   'href': 'https://us6.api.mailchimp.com/3.0/lists/dbee994f95/members/cdb9a4b5b93d20acd34e3a32974b8208/notes',\n",
       "   'method': 'GET',\n",
       "   'targetSchema': 'https://us6.api.mailchimp.com/schema/3.0/Definitions/Lists/Members/Notes/CollectionResponse.json'},\n",
       "  {'rel': 'events',\n",
       "   'href': 'https://us6.api.mailchimp.com/3.0/lists/dbee994f95/members/cdb9a4b5b93d20acd34e3a32974b8208/events',\n",
       "   'method': 'POST',\n",
       "   'targetSchema': 'https://us6.api.mailchimp.com/schema/3.0/Definitions/Lists/Members/Events/POST.json'},\n",
       "  {'rel': 'delete_permanent',\n",
       "   'href': 'https://us6.api.mailchimp.com/3.0/lists/dbee994f95/members/cdb9a4b5b93d20acd34e3a32974b8208/actions/delete-permanent',\n",
       "   'method': 'POST'}]}"
      ]
     },
     "execution_count": 65,
     "metadata": {},
     "output_type": "execute_result"
    }
   ],
   "source": [
    "#here we are giving email address,status,tags and name.\n",
    "client.lists.members.create('dbee994f95', {'email_address': 'aryank@gmail.com','status': 'subscribed','tags':['Skidos'],'merge_fields': {'FNAME': 'John','LNAME': 'Doe'}})"
   ]
  },
  {
   "cell_type": "code",
   "execution_count": 66,
   "metadata": {},
   "outputs": [
    {
     "data": {
      "text/plain": [
       "{'id': 'cdb9a4b5b93d20acd34e3a32974b8208',\n",
       " 'email_address': 'aryank@gmail.com',\n",
       " 'unique_email_id': '31c835574a',\n",
       " 'full_name': 'John Doe',\n",
       " 'web_id': 551448281,\n",
       " 'email_type': 'html',\n",
       " 'status': 'unsubscribed',\n",
       " 'unsubscribe_reason': 'N/A (Unsubscribed by admin)',\n",
       " 'merge_fields': {'FNAME': 'John', 'LNAME': 'Doe', 'ADDRESS': '', 'PHONE': ''},\n",
       " 'stats': {'avg_open_rate': 0, 'avg_click_rate': 0},\n",
       " 'ip_signup': '',\n",
       " 'timestamp_signup': '',\n",
       " 'ip_opt': '132.154.69.235',\n",
       " 'timestamp_opt': '2021-06-13T18:31:56+00:00',\n",
       " 'member_rating': 2,\n",
       " 'last_changed': '2021-06-13T18:31:58+00:00',\n",
       " 'language': '',\n",
       " 'vip': False,\n",
       " 'email_client': '',\n",
       " 'location': {'latitude': 0,\n",
       "  'longitude': 0,\n",
       "  'gmtoff': 0,\n",
       "  'dstoff': 0,\n",
       "  'country_code': '',\n",
       "  'timezone': ''},\n",
       " 'source': 'API - Generic',\n",
       " 'tags_count': 1,\n",
       " 'tags': [{'id': 1916705, 'name': 'Skidos'}],\n",
       " 'list_id': 'dbee994f95',\n",
       " '_links': [{'rel': 'self',\n",
       "   'href': 'https://us6.api.mailchimp.com/3.0/lists/dbee994f95/members/cdb9a4b5b93d20acd34e3a32974b8208',\n",
       "   'method': 'GET',\n",
       "   'targetSchema': 'https://us6.api.mailchimp.com/schema/3.0/Definitions/Lists/Members/Response.json'},\n",
       "  {'rel': 'parent',\n",
       "   'href': 'https://us6.api.mailchimp.com/3.0/lists/dbee994f95/members',\n",
       "   'method': 'GET',\n",
       "   'targetSchema': 'https://us6.api.mailchimp.com/schema/3.0/Definitions/Lists/Members/CollectionResponse.json',\n",
       "   'schema': 'https://us6.api.mailchimp.com/schema/3.0/Paths/Lists/Members/Collection.json'},\n",
       "  {'rel': 'update',\n",
       "   'href': 'https://us6.api.mailchimp.com/3.0/lists/dbee994f95/members/cdb9a4b5b93d20acd34e3a32974b8208',\n",
       "   'method': 'PATCH',\n",
       "   'targetSchema': 'https://us6.api.mailchimp.com/schema/3.0/Definitions/Lists/Members/Response.json',\n",
       "   'schema': 'https://us6.api.mailchimp.com/schema/3.0/Definitions/Lists/Members/PATCH.json'},\n",
       "  {'rel': 'upsert',\n",
       "   'href': 'https://us6.api.mailchimp.com/3.0/lists/dbee994f95/members/cdb9a4b5b93d20acd34e3a32974b8208',\n",
       "   'method': 'PUT',\n",
       "   'targetSchema': 'https://us6.api.mailchimp.com/schema/3.0/Definitions/Lists/Members/Response.json',\n",
       "   'schema': 'https://us6.api.mailchimp.com/schema/3.0/Definitions/Lists/Members/PUT.json'},\n",
       "  {'rel': 'delete',\n",
       "   'href': 'https://us6.api.mailchimp.com/3.0/lists/dbee994f95/members/cdb9a4b5b93d20acd34e3a32974b8208',\n",
       "   'method': 'DELETE'},\n",
       "  {'rel': 'activity',\n",
       "   'href': 'https://us6.api.mailchimp.com/3.0/lists/dbee994f95/members/cdb9a4b5b93d20acd34e3a32974b8208/activity',\n",
       "   'method': 'GET',\n",
       "   'targetSchema': 'https://us6.api.mailchimp.com/schema/3.0/Definitions/Lists/Members/Activity/Response.json'},\n",
       "  {'rel': 'goals',\n",
       "   'href': 'https://us6.api.mailchimp.com/3.0/lists/dbee994f95/members/cdb9a4b5b93d20acd34e3a32974b8208/goals',\n",
       "   'method': 'GET',\n",
       "   'targetSchema': 'https://us6.api.mailchimp.com/schema/3.0/Definitions/Lists/Members/Goals/Response.json'},\n",
       "  {'rel': 'notes',\n",
       "   'href': 'https://us6.api.mailchimp.com/3.0/lists/dbee994f95/members/cdb9a4b5b93d20acd34e3a32974b8208/notes',\n",
       "   'method': 'GET',\n",
       "   'targetSchema': 'https://us6.api.mailchimp.com/schema/3.0/Definitions/Lists/Members/Notes/CollectionResponse.json'},\n",
       "  {'rel': 'events',\n",
       "   'href': 'https://us6.api.mailchimp.com/3.0/lists/dbee994f95/members/cdb9a4b5b93d20acd34e3a32974b8208/events',\n",
       "   'method': 'POST',\n",
       "   'targetSchema': 'https://us6.api.mailchimp.com/schema/3.0/Definitions/Lists/Members/Events/POST.json'},\n",
       "  {'rel': 'delete_permanent',\n",
       "   'href': 'https://us6.api.mailchimp.com/3.0/lists/dbee994f95/members/cdb9a4b5b93d20acd34e3a32974b8208/actions/delete-permanent',\n",
       "   'method': 'POST'}]}"
      ]
     },
     "execution_count": 66,
     "metadata": {},
     "output_type": "execute_result"
    }
   ],
   "source": [
    "#updating the status to unsubscribed\n",
    "client.lists.members.update(list_id='dbee994f95', subscriber_hash='aryank@gmail.com', data={'status': 'unsubscribed'})"
   ]
  },
  {
   "cell_type": "code",
   "execution_count": null,
   "metadata": {},
   "outputs": [],
   "source": []
  },
  {
   "cell_type": "code",
   "execution_count": null,
   "metadata": {},
   "outputs": [],
   "source": []
  },
  {
   "cell_type": "code",
   "execution_count": null,
   "metadata": {},
   "outputs": [],
   "source": []
  }
 ],
 "metadata": {
  "kernelspec": {
   "display_name": "Python 3",
   "language": "python",
   "name": "python3"
  },
  "language_info": {
   "codemirror_mode": {
    "name": "ipython",
    "version": 3
   },
   "file_extension": ".py",
   "mimetype": "text/x-python",
   "name": "python",
   "nbconvert_exporter": "python",
   "pygments_lexer": "ipython3",
   "version": "3.8.5"
  }
 },
 "nbformat": 4,
 "nbformat_minor": 4
}
